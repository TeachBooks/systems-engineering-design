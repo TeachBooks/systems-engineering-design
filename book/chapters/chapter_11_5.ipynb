{
 "cells": [
  {
   "cell_type": "markdown",
   "metadata": {},
   "source": [
    "# 11.5. Dutch rail level crossing\n",
    "\n",
    "```{note}\n",
    "Press the rocket symbol on the top right of the page to make the page interactive and play with the code! \n",
    "``` "
   ]
  },
  {
   "cell_type": "markdown",
   "metadata": {},
   "source": [
    "## Problem statement\n",
    "\n",
    "Railways and roads often cross each other at evel-crossings. Because heavy vehicles must also be able to cross, the railway crossing is often cast in a concrete foundation. The mechanical properties of this concrete foundation are very different from the foundation of the other parts of the railway track. As a result, transitional radiation occurs during the passage of a train, potentially resulting in faster degradation of the local rail system or a negative passenger experience due to vibrational hindrance. Therefore, a transition zone is created by varying the number of sleepers and the distance between them to contribute to a smoother transition,\n",
    "which should have a positive effect on both operational performance and passenger comfort."
   ]
  },
  {
   "cell_type": "markdown",
   "metadata": {},
   "source": [
    "- **Step 1: Specify the design variables**\n",
    "\n",
    "In reality, this design depends on a multitude of design variables, but for now, it will be limited to just two of them:\n",
    "\n",
    "1. $F1 = x1 > 0$: the distance between the sleepers. Sleepers are the concrete (or sometimes wooden) beams that support the rails, as part of the ballast bed.\n",
    "2. $F2 = x2(≥ 1)$: the number of sleepers in the transition zone. The transition\n",
    "zone consists of a different type of sleeper than the rest of the track.\n",
    "\n",
    "\n",
    "The key design performance functions describing the dynamic behaviour of the track at the level-crossing transition zone are the force $F3 = F(x1, x2)$ and the acceleration $F4 = a(x1, x2)$. These are usually the result of extensive numerical finite element and/or analytical calculations. For this design application, the physical/mechanical relationships between the design variables are simplified by using interpolation of discrete numerical calculations derived from a finite element based structural dynamic model (Shang et al., 2023). These interpolated results are the input to the design performance functions."
   ]
  },
  {
   "cell_type": "markdown",
   "metadata": {},
   "source": [
    "- **Step 2: Retrieve decision maker's objectives**\n",
    "\n",
    "In this application several conflicting interests of multiple stakeholders are considered:\n",
    "1. operational maintenance expenditures\n",
    "2. travel comfort objective functions\n",
    "3. capital investment \n",
    "\n",
    "It is assumed that these three objectives are linked to three different stakeholders. Take for instance the Dutch ProRail organisation, where there is both a project delivery and a service operations department. They are linked to the capital and operational expenditure objectives, respectively. The Dutch train passenger is represented as the stakeholder linked to the travel comfort objective.\n"
   ]
  },
  {
   "cell_type": "markdown",
   "metadata": {},
   "source": [
    "- **Step 3: Determine the preference functions for each objective**\n",
    "\n",
    "As mentioned before, three objective functions are investigated in this design application: maintenance costs, travel comfort and investment costs. Given these\n",
    "three objectives, the optimal design for the level-crossing zone is determined. The\n",
    "objective functions read as follows.\n",
    "\n",
    "1. **Maintenance costs (OPEX)** are the key driver for the design of the level crossing\n",
    "transition zones. Large forces and accelerations will have a negative effect on\n",
    "the degradation of the track and foundations, resulting in increased maintenance costs. Hence, this objective can be written as a function of the force and acceleration. For that purpose, the force and acceleration are normalised and combined\n",
    "via the root sum of the square. The final maintenance costs per year objective\n",
    "reads as:\n",
    "\n",
    "$$ O_M = \\sqrt{{F_N}^2 + {a_N}^2} \\cdot 15,000 $$\n",
    "\n",
    "where\n",
    "\n",
    "$$ F_N = \\frac{F - F_{\\text{min}}}{F_{\\text{max}} - F_{\\text{min}}}; \\quad a_N = \\frac{a - a_{\\text{min}}}{a_{\\text{max}} - a_{\\text{min}}} $$\n",
    "\n",
    "and where $O_M$ expresses the OPEX per year in EUR. Note that at the level of design performance functions (i.e., apability-object level), it holds that $F3 = F$ and $F4 = a$ respectively.\n",
    "\n",
    "\n",
    "2. **Passenger travel comfort** is an important consideration in railway design.\n",
    "When the dynamic behaviour (due to transition accelerations) during a passage\n",
    "of a level-crossing is substantial, it may lead to a negative travel experience or,\n",
    "in the worst case, to minor mishaps in the train (falling while walking, spilling\n",
    "drinks, etc.). To integrate this into the design problem, an objective is added that\n",
    "describes travel comfort as a function of the normalised acceleration:\n",
    "\n",
    "$$O_C = 1 − a_N$$\n",
    "\n",
    "\n",
    "3. **Investment costs (CAPEX)** must be considered as a key decision-making\n",
    "parameter. The installation of more sleepers will result in higher investment costs.\n",
    "However, more sleepers spread out over a greater distance will also mean that\n",
    "the investment costs for other parts of the rail will be reduced. Therefore, the\n",
    "investment costs objective can be represented as follows:\n",
    "\n",
    "$$O_I = 1000 x_2 − 350 x_1 x_2$$\n",
    "\n",
    "where O_I expresses the CAPEX in EUR.\n",
    "\n",
    "\n",
    "The preference functions for this design application are constructed based on the input from relevant stakeholders (Shang, 2021, 2023). The three resulting functions, which describe the relations between different values for P1..3,1..3 and O1..3, are shown as blue curves in the figure below. Note that the preference function elicitation was performed using the fundamentals of PFM research by (see Arkesteijn et.al. (2017)).\n",
    "\n",
    "<div style=\"text-align: center;\">\n",
    "  <img src=\"./images/rail_preference.png\" alt=\"Chapter 11\" width=\"70%\">\n",
    "  <p>The three stakeholder preference functions for different objectives.</p>\n",
    "</div>"
   ]
  },
  {
   "cell_type": "markdown",
   "metadata": {},
   "source": [
    "- **Step 4: To each objective assign decision maker's weights**\n",
    "\n",
    "To generate the design points (i.e., design configuration results) for the different\n",
    "multi-objective optimisation methods (MODO Min-max and IMAP), the weights for each objective must first be determined. Since traditional (contractor) design offices often give a dominant weight to investment costs alone and less to the quality\n",
    "of service (QoS) oriented interests of maintenance and travel performance, here\n",
    "it is deliberately done ‘the other way round’, resulting in: \\\n",
    "\n",
    "$w_{1,M} = 0.4$ for maintenance,\n",
    "$w_{2,C} = 0.4$ for travel comfort and $w_{3,I} = 0.2$ for investments.\n",
    "\n"
   ]
  },
  {
   "cell_type": "markdown",
   "metadata": {},
   "source": [
    "- **Step 5: Determine the design constraints**\n",
    "\n",
    "From the practical application context, the design variables are bounded by $0.3 ≤ x1 ≤ 0.7$ and $4 ≤ x2 ≤ 15$, which defines the\n",
    "design space (i.e., the solution space defined by the design variables). "
   ]
  },
  {
   "cell_type": "markdown",
   "metadata": {},
   "source": [
    "- **Step 6: Find the optimal design having the highest preference score**"
   ]
  },
  {
   "cell_type": "markdown",
   "metadata": {},
   "source": []
  }
 ],
 "metadata": {
  "language_info": {
   "name": "python"
  }
 },
 "nbformat": 4,
 "nbformat_minor": 2
}
